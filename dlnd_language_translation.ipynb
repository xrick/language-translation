{
 "cells": [
  {
   "cell_type": "markdown",
   "metadata": {
    "collapsed": true
   },
   "source": [
    "# Language Translation\n",
    "In this project, you’re going to take a peek into the realm of neural network machine translation.  You’ll be training a sequence to sequence model on a dataset of English and French sentences that can translate new sentences from English to French.\n",
    "## Get the Data\n",
    "Since translating the whole language of English to French will take lots of time to train, we have provided you with a small portion of the English corpus."
   ]
  },
  {
   "cell_type": "code",
   "execution_count": 1,
   "metadata": {
    "collapsed": true
   },
   "outputs": [],
   "source": [
    "\"\"\"\n",
    "DON'T MODIFY ANYTHING IN THIS CELL\n",
    "\"\"\"\n",
    "import helper\n",
    "import problem_unittests as tests\n",
    "\n",
    "source_path = 'data/small_vocab_en'\n",
    "target_path = 'data/small_vocab_fr'\n",
    "source_text = helper.load_data(source_path)\n",
    "target_text = helper.load_data(target_path)"
   ]
  },
  {
   "cell_type": "markdown",
   "metadata": {},
   "source": [
    "## Explore the Data\n",
    "Play around with view_sentence_range to view different parts of the data."
   ]
  },
  {
   "cell_type": "code",
   "execution_count": 2,
   "metadata": {},
   "outputs": [
    {
     "name": "stdout",
     "output_type": "stream",
     "text": [
      "Dataset Stats\n",
      "Roughly the number of unique words: 227\n",
      "Number of sentences: 137861\n",
      "Average number of words in a sentence: 13.225277634719028\n",
      "\n",
      "English sentences 0 to 10:\n",
      "new jersey is sometimes quiet during autumn , and it is snowy in april .\n",
      "the united states is usually chilly during july , and it is usually freezing in november .\n",
      "california is usually quiet during march , and it is usually hot in june .\n",
      "the united states is sometimes mild during june , and it is cold in september .\n",
      "your least liked fruit is the grape , but my least liked is the apple .\n",
      "his favorite fruit is the orange , but my favorite is the grape .\n",
      "paris is relaxing during december , but it is usually chilly in july .\n",
      "new jersey is busy during spring , and it is never hot in march .\n",
      "our least liked fruit is the lemon , but my least liked is the grape .\n",
      "the united states is sometimes busy during january , and it is sometimes warm in november .\n",
      "\n",
      "French sentences 0 to 10:\n",
      "new jersey est parfois calme pendant l' automne , et il est neigeux en avril .\n",
      "les états-unis est généralement froid en juillet , et il gèle habituellement en novembre .\n",
      "california est généralement calme en mars , et il est généralement chaud en juin .\n",
      "les états-unis est parfois légère en juin , et il fait froid en septembre .\n",
      "votre moins aimé fruit est le raisin , mais mon moins aimé est la pomme .\n",
      "son fruit préféré est l'orange , mais mon préféré est le raisin .\n",
      "paris est relaxant en décembre , mais il est généralement froid en juillet .\n",
      "new jersey est occupé au printemps , et il est jamais chaude en mars .\n",
      "notre fruit est moins aimé le citron , mais mon moins aimé est le raisin .\n",
      "les états-unis est parfois occupé en janvier , et il est parfois chaud en novembre .\n"
     ]
    }
   ],
   "source": [
    "view_sentence_range = (0, 10)\n",
    "\n",
    "\"\"\"\n",
    "DON'T MODIFY ANYTHING IN THIS CELL\n",
    "\"\"\"\n",
    "import numpy as np\n",
    "\n",
    "print('Dataset Stats')\n",
    "print('Roughly the number of unique words: {}'.format(len({word: None for word in source_text.split()})))\n",
    "sentences = source_text.split('\\n')\n",
    "word_counts = [len(sentence.split()) for sentence in sentences]\n",
    "print('Number of sentences: {}'.format(len(sentences)))\n",
    "print('Average number of words in a sentence: {}'.format(np.average(word_counts)))\n",
    "\n",
    "print()\n",
    "print('English sentences {} to {}:'.format(*view_sentence_range))\n",
    "print('\\n'.join(source_text.split('\\n')[view_sentence_range[0]:view_sentence_range[1]]))\n",
    "print()\n",
    "print('French sentences {} to {}:'.format(*view_sentence_range))\n",
    "print('\\n'.join(target_text.split('\\n')[view_sentence_range[0]:view_sentence_range[1]]))"
   ]
  },
  {
   "cell_type": "markdown",
   "metadata": {},
   "source": [
    "## Implement Preprocessing Function\n",
    "### Text to Word Ids\n",
    "As you did with other RNNs, you must turn the text into a number so the computer can understand it. In the function `text_to_ids()`, you'll turn `source_text` and `target_text` from words to ids.  However, you need to add the `<EOS>` word id at the end of `target_text`.  This will help the neural network predict when the sentence should end.\n",
    "\n",
    "You can get the `<EOS>` word id by doing:\n",
    "```python\n",
    "target_vocab_to_int['<EOS>']\n",
    "```\n",
    "You can get other word ids using `source_vocab_to_int` and `target_vocab_to_int`."
   ]
  },
  {
   "cell_type": "code",
   "execution_count": 3,
   "metadata": {},
   "outputs": [
    {
     "name": "stdout",
     "output_type": "stream",
     "text": [
      "Tests Passed\n"
     ]
    }
   ],
   "source": [
    "def extract_character_voc(data):\n",
    "    special_words = ['PAD','UNK','GO','EOS']\n",
    "    set_words = set([character for line in data.split('\\n') for character in line])\n",
    "    int_to_vocab = {word_i: word for word_i, word in enumerate(special_words + list(set_words))}\n",
    "    vocab_to_int = {word: word_i for word_i, word in int_to_vocab.items()}\n",
    "    return (int_to_vocab, vocab_to_int)\n",
    "\n",
    "def text_to_ids(source_text, target_text, source_vocab_to_int, target_vocab_to_int):\n",
    "    \"\"\"\n",
    "    Convert source and target text to proper word ids\n",
    "    :param source_text: String that contains all the source text.\n",
    "    :param target_text: String that contains all the target text.\n",
    "    :param source_vocab_to_int: Dictionary to go from the source words to an id\n",
    "    :param target_vocab_to_int: Dictionary to go from the target words to an id\n",
    "    :return: A tuple of lists (source_id_text, target_id_text)\n",
    "    \"\"\"\n",
    "    source_id_text = [\n",
    "        [source_vocab_to_int[word] for word in sentence.split()] for sentence in source_text.split('\\n')\n",
    "                     ]\n",
    "    target_id_text =[\n",
    "        [target_vocab_to_int[word] for word in sentence.split()] + [target_vocab_to_int['<EOS>']]\n",
    "        for sentence in target_text.split('\\n')\n",
    "    ]\n",
    "    #target_int_to_vocab\n",
    "    # TODO: Implement Function\n",
    "    return source_id_text, target_id_text\n",
    "\n",
    "\"\"\"\n",
    "DON'T MODIFY ANYTHING IN THIS CELL THAT IS BELOW THIS LINE\n",
    "\"\"\"\n",
    "tests.test_text_to_ids(text_to_ids)"
   ]
  },
  {
   "cell_type": "markdown",
   "metadata": {},
   "source": [
    "### Preprocess all the data and save it\n",
    "Running the code cell below will preprocess all the data and save it to file."
   ]
  },
  {
   "cell_type": "code",
   "execution_count": 4,
   "metadata": {},
   "outputs": [],
   "source": [
    "\"\"\"\n",
    "DON'T MODIFY ANYTHING IN THIS CELL\n",
    "\"\"\"\n",
    "helper.preprocess_and_save_data(source_path, target_path, text_to_ids)"
   ]
  },
  {
   "cell_type": "markdown",
   "metadata": {},
   "source": [
    "# Check Point\n",
    "This is your first checkpoint. If you ever decide to come back to this notebook or have to restart the notebook, you can start from here. The preprocessed data has been saved to disk."
   ]
  },
  {
   "cell_type": "code",
   "execution_count": 5,
   "metadata": {
    "collapsed": true
   },
   "outputs": [],
   "source": [
    "\"\"\"\n",
    "DON'T MODIFY ANYTHING IN THIS CELL\n",
    "\"\"\"\n",
    "import numpy as np\n",
    "import helper\n",
    "import problem_unittests as tests\n",
    "\n",
    "(source_int_text, target_int_text), (source_vocab_to_int, target_vocab_to_int), _ = helper.load_preprocess()"
   ]
  },
  {
   "cell_type": "markdown",
   "metadata": {},
   "source": [
    "### Check the Version of TensorFlow and Access to GPU\n",
    "This will check to make sure you have the correct version of TensorFlow and access to a GPU"
   ]
  },
  {
   "cell_type": "code",
   "execution_count": 6,
   "metadata": {},
   "outputs": [
    {
     "name": "stdout",
     "output_type": "stream",
     "text": [
      "TensorFlow Version: 1.2.1\n"
     ]
    },
    {
     "name": "stderr",
     "output_type": "stream",
     "text": [
      "/anaconda/envs/dlnd-tf-lab2/lib/python3.5/site-packages/ipykernel_launcher.py:15: UserWarning: No GPU found. Please use a GPU to train your neural network.\n",
      "  from ipykernel import kernelapp as app\n"
     ]
    }
   ],
   "source": [
    "\"\"\"\n",
    "DON'T MODIFY ANYTHING IN THIS CELL\n",
    "\"\"\"\n",
    "from distutils.version import LooseVersion\n",
    "import warnings\n",
    "import tensorflow as tf\n",
    "from tensorflow.python.layers.core import Dense\n",
    "\n",
    "# Check TensorFlow Version\n",
    "assert LooseVersion(tf.__version__) >= LooseVersion('1.1'), 'Please use TensorFlow version 1.1 or newer'\n",
    "print('TensorFlow Version: {}'.format(tf.__version__))\n",
    "\n",
    "# Check for a GPU\n",
    "if not tf.test.gpu_device_name():\n",
    "    warnings.warn('No GPU found. Please use a GPU to train your neural network.')\n",
    "else:\n",
    "    print('Default GPU Device: {}'.format(tf.test.gpu_device_name()))"
   ]
  },
  {
   "cell_type": "markdown",
   "metadata": {},
   "source": [
    "## Build the Neural Network\n",
    "You'll build the components necessary to build a Sequence-to-Sequence model by implementing the following functions below:\n",
    "- `model_inputs`\n",
    "- `process_decoder_input`\n",
    "- `encoding_layer`\n",
    "- `decoding_layer_train`\n",
    "- `decoding_layer_infer`\n",
    "- `decoding_layer`\n",
    "- `seq2seq_model`\n",
    "\n",
    "### Input\n",
    "Implement the `model_inputs()` function to create TF Placeholders for the Neural Network. It should create the following placeholders:\n",
    "\n",
    "- Input text placeholder named \"input\" using the TF Placeholder name parameter with rank 2.\n",
    "- Targets placeholder with rank 2.\n",
    "- Learning rate placeholder with rank 0.\n",
    "- Keep probability placeholder named \"keep_prob\" using the TF Placeholder name parameter with rank 0.\n",
    "- Target sequence length placeholder named \"target_sequence_length\" with rank 1\n",
    "- Max target sequence length tensor named \"max_target_len\" getting its value from applying tf.reduce_max on the target_sequence_length placeholder. Rank 0.\n",
    "- Source sequence length placeholder named \"source_sequence_length\" with rank 1\n",
    "\n",
    "Return the placeholders in the following the tuple (input, targets, learning rate, keep probability, target sequence length, max target sequence length, source sequence length)"
   ]
  },
  {
   "cell_type": "code",
   "execution_count": 7,
   "metadata": {},
   "outputs": [
    {
     "name": "stdout",
     "output_type": "stream",
     "text": [
      "ERROR:tensorflow:==================================\n",
      "Object was never used (type <class 'tensorflow.python.framework.ops.Operation'>):\n",
      "<tf.Operation 'assert_rank_2/Assert/Assert' type=Assert>\n",
      "If you want to mark it as used call its \"mark_used()\" method.\n",
      "It was originally created here:\n",
      "['File \"/anaconda/envs/dlnd-tf-lab2/lib/python3.5/runpy.py\", line 193, in _run_module_as_main\\n    \"__main__\", mod_spec)', 'File \"/anaconda/envs/dlnd-tf-lab2/lib/python3.5/runpy.py\", line 85, in _run_code\\n    exec(code, run_globals)', 'File \"/anaconda/envs/dlnd-tf-lab2/lib/python3.5/site-packages/ipykernel_launcher.py\", line 16, in <module>\\n    app.launch_new_instance()', 'File \"/anaconda/envs/dlnd-tf-lab2/lib/python3.5/site-packages/traitlets/config/application.py\", line 658, in launch_instance\\n    app.start()', 'File \"/anaconda/envs/dlnd-tf-lab2/lib/python3.5/site-packages/ipykernel/kernelapp.py\", line 477, in start\\n    ioloop.IOLoop.instance().start()', 'File \"/anaconda/envs/dlnd-tf-lab2/lib/python3.5/site-packages/zmq/eventloop/ioloop.py\", line 177, in start\\n    super(ZMQIOLoop, self).start()', 'File \"/anaconda/envs/dlnd-tf-lab2/lib/python3.5/site-packages/tornado/ioloop.py\", line 888, in start\\n    handler_func(fd_obj, events)', 'File \"/anaconda/envs/dlnd-tf-lab2/lib/python3.5/site-packages/tornado/stack_context.py\", line 277, in null_wrapper\\n    return fn(*args, **kwargs)', 'File \"/anaconda/envs/dlnd-tf-lab2/lib/python3.5/site-packages/zmq/eventloop/zmqstream.py\", line 440, in _handle_events\\n    self._handle_recv()', 'File \"/anaconda/envs/dlnd-tf-lab2/lib/python3.5/site-packages/zmq/eventloop/zmqstream.py\", line 472, in _handle_recv\\n    self._run_callback(callback, msg)', 'File \"/anaconda/envs/dlnd-tf-lab2/lib/python3.5/site-packages/zmq/eventloop/zmqstream.py\", line 414, in _run_callback\\n    callback(*args, **kwargs)', 'File \"/anaconda/envs/dlnd-tf-lab2/lib/python3.5/site-packages/tornado/stack_context.py\", line 277, in null_wrapper\\n    return fn(*args, **kwargs)', 'File \"/anaconda/envs/dlnd-tf-lab2/lib/python3.5/site-packages/ipykernel/kernelbase.py\", line 283, in dispatcher\\n    return self.dispatch_shell(stream, msg)', 'File \"/anaconda/envs/dlnd-tf-lab2/lib/python3.5/site-packages/ipykernel/kernelbase.py\", line 235, in dispatch_shell\\n    handler(stream, idents, msg)', 'File \"/anaconda/envs/dlnd-tf-lab2/lib/python3.5/site-packages/ipykernel/kernelbase.py\", line 399, in execute_request\\n    user_expressions, allow_stdin)', 'File \"/anaconda/envs/dlnd-tf-lab2/lib/python3.5/site-packages/ipykernel/ipkernel.py\", line 196, in do_execute\\n    res = shell.run_cell(code, store_history=store_history, silent=silent)', 'File \"/anaconda/envs/dlnd-tf-lab2/lib/python3.5/site-packages/ipykernel/zmqshell.py\", line 533, in run_cell\\n    return super(ZMQInteractiveShell, self).run_cell(*args, **kwargs)', 'File \"/anaconda/envs/dlnd-tf-lab2/lib/python3.5/site-packages/IPython/core/interactiveshell.py\", line 2698, in run_cell\\n    interactivity=interactivity, compiler=compiler, result=result)', 'File \"/anaconda/envs/dlnd-tf-lab2/lib/python3.5/site-packages/IPython/core/interactiveshell.py\", line 2808, in run_ast_nodes\\n    if self.run_code(code, result):', 'File \"/anaconda/envs/dlnd-tf-lab2/lib/python3.5/site-packages/IPython/core/interactiveshell.py\", line 2862, in run_code\\n    exec(code_obj, self.user_global_ns, self.user_ns)', 'File \"<ipython-input-7-fabcb89f6a6e>\", line 22, in <module>\\n    tests.test_model_inputs(model_inputs)', 'File \"/Users/xrickliao/RLRepository/MyUdacity/DeepLearningNanodegree/Projects/language-translation/problem_unittests.py\", line 106, in test_model_inputs\\n    assert tf.assert_rank(lr, 0, message=\\'Learning Rate has wrong rank\\')', 'File \"/anaconda/envs/dlnd-tf-lab2/lib/python3.5/site-packages/tensorflow/python/ops/check_ops.py\", line 617, in assert_rank\\n    dynamic_condition, data, summarize)', 'File \"/anaconda/envs/dlnd-tf-lab2/lib/python3.5/site-packages/tensorflow/python/ops/check_ops.py\", line 571, in _assert_rank_condition\\n    return control_flow_ops.Assert(condition, data, summarize=summarize)', 'File \"/anaconda/envs/dlnd-tf-lab2/lib/python3.5/site-packages/tensorflow/python/util/tf_should_use.py\", line 170, in wrapped\\n    return _add_should_use_warning(fn(*args, **kwargs))', 'File \"/anaconda/envs/dlnd-tf-lab2/lib/python3.5/site-packages/tensorflow/python/util/tf_should_use.py\", line 139, in _add_should_use_warning\\n    wrapped = TFShouldUseWarningWrapper(x)', 'File \"/anaconda/envs/dlnd-tf-lab2/lib/python3.5/site-packages/tensorflow/python/util/tf_should_use.py\", line 96, in __init__\\n    stack = [s.strip() for s in traceback.format_stack()]']\n",
      "==================================\n",
      "ERROR:tensorflow:==================================\n",
      "Object was never used (type <class 'tensorflow.python.framework.ops.Operation'>):\n",
      "<tf.Operation 'assert_rank_3/Assert/Assert' type=Assert>\n",
      "If you want to mark it as used call its \"mark_used()\" method.\n",
      "It was originally created here:\n",
      "['File \"/anaconda/envs/dlnd-tf-lab2/lib/python3.5/runpy.py\", line 193, in _run_module_as_main\\n    \"__main__\", mod_spec)', 'File \"/anaconda/envs/dlnd-tf-lab2/lib/python3.5/runpy.py\", line 85, in _run_code\\n    exec(code, run_globals)', 'File \"/anaconda/envs/dlnd-tf-lab2/lib/python3.5/site-packages/ipykernel_launcher.py\", line 16, in <module>\\n    app.launch_new_instance()', 'File \"/anaconda/envs/dlnd-tf-lab2/lib/python3.5/site-packages/traitlets/config/application.py\", line 658, in launch_instance\\n    app.start()', 'File \"/anaconda/envs/dlnd-tf-lab2/lib/python3.5/site-packages/ipykernel/kernelapp.py\", line 477, in start\\n    ioloop.IOLoop.instance().start()', 'File \"/anaconda/envs/dlnd-tf-lab2/lib/python3.5/site-packages/zmq/eventloop/ioloop.py\", line 177, in start\\n    super(ZMQIOLoop, self).start()', 'File \"/anaconda/envs/dlnd-tf-lab2/lib/python3.5/site-packages/tornado/ioloop.py\", line 888, in start\\n    handler_func(fd_obj, events)', 'File \"/anaconda/envs/dlnd-tf-lab2/lib/python3.5/site-packages/tornado/stack_context.py\", line 277, in null_wrapper\\n    return fn(*args, **kwargs)', 'File \"/anaconda/envs/dlnd-tf-lab2/lib/python3.5/site-packages/zmq/eventloop/zmqstream.py\", line 440, in _handle_events\\n    self._handle_recv()', 'File \"/anaconda/envs/dlnd-tf-lab2/lib/python3.5/site-packages/zmq/eventloop/zmqstream.py\", line 472, in _handle_recv\\n    self._run_callback(callback, msg)', 'File \"/anaconda/envs/dlnd-tf-lab2/lib/python3.5/site-packages/zmq/eventloop/zmqstream.py\", line 414, in _run_callback\\n    callback(*args, **kwargs)', 'File \"/anaconda/envs/dlnd-tf-lab2/lib/python3.5/site-packages/tornado/stack_context.py\", line 277, in null_wrapper\\n    return fn(*args, **kwargs)', 'File \"/anaconda/envs/dlnd-tf-lab2/lib/python3.5/site-packages/ipykernel/kernelbase.py\", line 283, in dispatcher\\n    return self.dispatch_shell(stream, msg)', 'File \"/anaconda/envs/dlnd-tf-lab2/lib/python3.5/site-packages/ipykernel/kernelbase.py\", line 235, in dispatch_shell\\n    handler(stream, idents, msg)', 'File \"/anaconda/envs/dlnd-tf-lab2/lib/python3.5/site-packages/ipykernel/kernelbase.py\", line 399, in execute_request\\n    user_expressions, allow_stdin)', 'File \"/anaconda/envs/dlnd-tf-lab2/lib/python3.5/site-packages/ipykernel/ipkernel.py\", line 196, in do_execute\\n    res = shell.run_cell(code, store_history=store_history, silent=silent)', 'File \"/anaconda/envs/dlnd-tf-lab2/lib/python3.5/site-packages/ipykernel/zmqshell.py\", line 533, in run_cell\\n    return super(ZMQInteractiveShell, self).run_cell(*args, **kwargs)', 'File \"/anaconda/envs/dlnd-tf-lab2/lib/python3.5/site-packages/IPython/core/interactiveshell.py\", line 2698, in run_cell\\n    interactivity=interactivity, compiler=compiler, result=result)', 'File \"/anaconda/envs/dlnd-tf-lab2/lib/python3.5/site-packages/IPython/core/interactiveshell.py\", line 2808, in run_ast_nodes\\n    if self.run_code(code, result):', 'File \"/anaconda/envs/dlnd-tf-lab2/lib/python3.5/site-packages/IPython/core/interactiveshell.py\", line 2862, in run_code\\n    exec(code_obj, self.user_global_ns, self.user_ns)', 'File \"<ipython-input-7-fabcb89f6a6e>\", line 22, in <module>\\n    tests.test_model_inputs(model_inputs)', 'File \"/Users/xrickliao/RLRepository/MyUdacity/DeepLearningNanodegree/Projects/language-translation/problem_unittests.py\", line 107, in test_model_inputs\\n    assert tf.assert_rank(keep_prob, 0, message=\\'Keep Probability has wrong rank\\')', 'File \"/anaconda/envs/dlnd-tf-lab2/lib/python3.5/site-packages/tensorflow/python/ops/check_ops.py\", line 617, in assert_rank\\n    dynamic_condition, data, summarize)', 'File \"/anaconda/envs/dlnd-tf-lab2/lib/python3.5/site-packages/tensorflow/python/ops/check_ops.py\", line 571, in _assert_rank_condition\\n    return control_flow_ops.Assert(condition, data, summarize=summarize)', 'File \"/anaconda/envs/dlnd-tf-lab2/lib/python3.5/site-packages/tensorflow/python/util/tf_should_use.py\", line 170, in wrapped\\n    return _add_should_use_warning(fn(*args, **kwargs))', 'File \"/anaconda/envs/dlnd-tf-lab2/lib/python3.5/site-packages/tensorflow/python/util/tf_should_use.py\", line 139, in _add_should_use_warning\\n    wrapped = TFShouldUseWarningWrapper(x)', 'File \"/anaconda/envs/dlnd-tf-lab2/lib/python3.5/site-packages/tensorflow/python/util/tf_should_use.py\", line 96, in __init__\\n    stack = [s.strip() for s in traceback.format_stack()]']\n",
      "==================================\n"
     ]
    },
    {
     "name": "stdout",
     "output_type": "stream",
     "text": [
      "Tests Passed\n"
     ]
    }
   ],
   "source": [
    "def model_inputs():\n",
    "    \"\"\"\n",
    "    Create TF Placeholders for input, targets, learning rate, and lengths of source and target sequences.\n",
    "    :return: Tuple (input, targets, learning rate, keep probability, target sequence length,\n",
    "    max target sequence length, source sequence length)\n",
    "    \"\"\"\n",
    "    # TODO: Implement Function\n",
    "    input_data = tf.placeholder(tf.int32,[None,None],name='input')\n",
    "    targets = tf.placeholder(tf.int32,[None,None], name='targets')\n",
    "    lr = tf.placeholder(tf.float32,name='learning_rate')\n",
    "    keep_prob = tf.placeholder(tf.float32, name='keep_prob')\n",
    "    target_sequence_length = tf.placeholder(tf.int32,[None],'target_sequence_length')\n",
    "    max_target_len = tf.reduce_max(target_sequence_length,False,name='max_target_len')\n",
    "    source_sequence_length = tf.placeholder(tf.int32,[None],name='source_sequence_length')\n",
    "    \n",
    "    return input_data, targets, lr, keep_prob, target_sequence_length, max_target_len, source_sequence_length\n",
    "\n",
    "\n",
    "\"\"\"\n",
    "DON'T MODIFY ANYTHING IN THIS CELL THAT IS BELOW THIS LINE\n",
    "\"\"\"\n",
    "tests.test_model_inputs(model_inputs)"
   ]
  },
  {
   "cell_type": "markdown",
   "metadata": {},
   "source": [
    "### Process Decoder Input\n",
    "Implement `process_decoder_input` by removing the last word id from each batch in `target_data` and concat the GO ID to the begining of each batch."
   ]
  },
  {
   "cell_type": "code",
   "execution_count": 8,
   "metadata": {},
   "outputs": [
    {
     "name": "stdout",
     "output_type": "stream",
     "text": [
      "Tests Passed\n"
     ]
    }
   ],
   "source": [
    "def process_decoder_input(target_data, target_vocab_to_int, batch_size):\n",
    "    \"\"\"\n",
    "    Preprocess target data for encoding\n",
    "    :param target_data: Target Placehoder\n",
    "    :param target_vocab_to_int: Dictionary to go from the target words to an id\n",
    "    :param batch_size: Batch Size\n",
    "    :return: Preprocessed target data\n",
    "    \"\"\"\n",
    "    # TODO: Implement Function\n",
    "    ending = tf.strided_slice(target_data, [0, 0], [batch_size, -1], [1, 1])\n",
    "    target_data = tf.concat([tf.fill([batch_size, 1], target_vocab_to_int['<GO>']), ending], 1)\n",
    "    return target_data\n",
    "\n",
    "\"\"\"\n",
    "DON'T MODIFY ANYTHING IN THIS CELL THAT IS BELOW THIS LINE\n",
    "\"\"\"\n",
    "tests.test_process_encoding_input(process_decoder_input)"
   ]
  },
  {
   "cell_type": "markdown",
   "metadata": {},
   "source": [
    "### Encoding\n",
    "Implement `encoding_layer()` to create a Encoder RNN layer:\n",
    " * Embed the encoder input using [`tf.contrib.layers.embed_sequence`](https://www.tensorflow.org/api_docs/python/tf/contrib/layers/embed_sequence)\n",
    " * Construct a [stacked](https://github.com/tensorflow/tensorflow/blob/6947f65a374ebf29e74bb71e36fd82760056d82c/tensorflow/docs_src/tutorials/recurrent.md#stacking-multiple-lstms) [`tf.contrib.rnn.LSTMCell`](https://www.tensorflow.org/api_docs/python/tf/contrib/rnn/LSTMCell) wrapped in a [`tf.contrib.rnn.DropoutWrapper`](https://www.tensorflow.org/api_docs/python/tf/contrib/rnn/DropoutWrapper)\n",
    " * Pass cell and embedded input to [`tf.nn.dynamic_rnn()`](https://www.tensorflow.org/api_docs/python/tf/nn/dynamic_rnn)"
   ]
  },
  {
   "cell_type": "code",
   "execution_count": 9,
   "metadata": {
    "scrolled": false
   },
   "outputs": [
    {
     "name": "stdout",
     "output_type": "stream",
     "text": [
      "Tests Passed\n"
     ]
    }
   ],
   "source": [
    "from imp import reload\n",
    "reload(tests)\n",
    "\n",
    "def make_cell(rnn_size, keep_prob):\n",
    "    enc_cell = tf.contrib.rnn.LSTMCell(rnn_size,\n",
    "                                    initializer=tf.random_uniform_initializer(-0.1, 0.1, seed=2))\n",
    "    \n",
    "    return tf.contrib.rnn.DropoutWrapper(enc_cell, output_keep_prob=keep_prob)#enc_cell\n",
    "\n",
    "def encoding_layer(rnn_inputs, rnn_size, num_layers, keep_prob, \n",
    "                   source_sequence_length, source_vocab_size, \n",
    "                   encoding_embedding_size):\n",
    "    \"\"\"\n",
    "    Create encoding layer\n",
    "    :param rnn_inputs: Inputs for the RNN\n",
    "    :param rnn_size: RNN Size\n",
    "    :param num_layers: Number of layers\n",
    "    :param keep_prob: Dropout keep probability\n",
    "    :param source_sequence_length: a list of the lengths of each sequence in the batch\n",
    "    :param source_vocab_size: vocabulary size of source data\n",
    "    :param encoding_embedding_size: embedding size of source data\n",
    "    :return: tuple (RNN output, RNN state)\n",
    "    \"\"\"\n",
    "    # TODO: Implement Function\n",
    "    # Encoder embedding\n",
    "    enc_embed_input = tf.contrib.layers.embed_sequence(rnn_inputs,source_vocab_size,\n",
    "                                                       encoding_embedding_size)\n",
    "    \n",
    "    # Build RNN Cell\n",
    "    enc_cell = tf.contrib.rnn.MultiRNNCell([make_cell(rnn_size,keep_prob) for _ in range(num_layers)])\n",
    "    #enc_cell = tf.contrib.rnn.DropoutWrapper(enc_cell, output_keep_prob=keep_prob)\n",
    "    output, state = tf.nn.dynamic_rnn(enc_cell, enc_embed_input, \n",
    "                                      sequence_length=source_sequence_length,dtype=tf.float32)\n",
    "    return output, state\n",
    "\"\"\"\n",
    "DON'T MODIFY ANYTHING IN THIS CELL THAT IS BELOW THIS LINE\n",
    "\"\"\"\n",
    "tests.test_encoding_layer(encoding_layer)"
   ]
  },
  {
   "cell_type": "markdown",
   "metadata": {},
   "source": [
    "### Decoding - Training\n",
    "Create a training decoding layer:\n",
    "* Create a [`tf.contrib.seq2seq.TrainingHelper`](https://www.tensorflow.org/api_docs/python/tf/contrib/seq2seq/TrainingHelper) \n",
    "* Create a [`tf.contrib.seq2seq.BasicDecoder`](https://www.tensorflow.org/api_docs/python/tf/contrib/seq2seq/BasicDecoder)\n",
    "* Obtain the decoder outputs from [`tf.contrib.seq2seq.dynamic_decode`](https://www.tensorflow.org/api_docs/python/tf/contrib/seq2seq/dynamic_decode)"
   ]
  },
  {
   "cell_type": "code",
   "execution_count": 10,
   "metadata": {},
   "outputs": [
    {
     "name": "stdout",
     "output_type": "stream",
     "text": [
      "Tests Passed\n"
     ]
    }
   ],
   "source": [
    "def decoding_layer_train(encoder_state, dec_cell, dec_embed_input, \n",
    "                         target_sequence_length, max_summary_length, \n",
    "                         output_layer, keep_prob):\n",
    "    \"\"\"\n",
    "    Create a decoding layer for training\n",
    "    :param encoder_state: Encoder State\n",
    "    :param dec_cell: Decoder RNN Cell\n",
    "    :param dec_embed_input: Decoder embedded input\n",
    "    :param target_sequence_length: The lengths of each sequence in the target batch\n",
    "    :param max_summary_length: The length of the longest sequence in the batch\n",
    "    :param output_layer: Function to apply the output layer\n",
    "    :param keep_prob: Dropout keep probability\n",
    "    :return: BasicDecoderOutput containing training logits and sample_id\n",
    "    \"\"\"\n",
    "    # TODO: Implement Function\n",
    "    \n",
    "    #with tf.variable_scope(\"scope\"):\n",
    "    # 1. Helper for the training process\n",
    "    training_helper = tf.contrib.seq2seq.TrainingHelper(inputs=dec_embed_input,\n",
    "                                                        sequence_length=target_sequence_length\n",
    "                                                       )\n",
    "    # 2. Basice decoder\n",
    "    training_decoder = tf.contrib.seq2seq.BasicDecoder(dec_cell,\n",
    "                                                       training_helper,\n",
    "                                                       encoder_state,\n",
    "                                                       output_layer\n",
    "                                                      )\n",
    "    # 3. Perform dynamic decoding using the decoder\n",
    "    BasicDecoderOutput,_ , _ = tf.contrib.seq2seq.dynamic_decode(training_decoder,\n",
    "                                                        impute_finished=True,\n",
    "                                                        maximum_iterations=max_summary_length\n",
    "                                                          )\n",
    "    return BasicDecoderOutput\n",
    "\n",
    "\n",
    "\n",
    "\"\"\"\n",
    "DON'T MODIFY ANYTHING IN THIS CELL THAT IS BELOW THIS LINE\n",
    "\"\"\"\n",
    "tests.test_decoding_layer_train(decoding_layer_train)"
   ]
  },
  {
   "cell_type": "markdown",
   "metadata": {},
   "source": [
    "### Decoding - Inference\n",
    "Create inference decoder:\n",
    "* Create a [`tf.contrib.seq2seq.GreedyEmbeddingHelper`](https://www.tensorflow.org/api_docs/python/tf/contrib/seq2seq/GreedyEmbeddingHelper)\n",
    "* Create a [`tf.contrib.seq2seq.BasicDecoder`](https://www.tensorflow.org/api_docs/python/tf/contrib/seq2seq/BasicDecoder)\n",
    "* Obtain the decoder outputs from [`tf.contrib.seq2seq.dynamic_decode`](https://www.tensorflow.org/api_docs/python/tf/contrib/seq2seq/dynamic_decode)"
   ]
  },
  {
   "cell_type": "code",
   "execution_count": 11,
   "metadata": {
    "scrolled": true
   },
   "outputs": [
    {
     "name": "stdout",
     "output_type": "stream",
     "text": [
      "Tests Passed\n"
     ]
    }
   ],
   "source": [
    "def decoding_layer_infer(encoder_state, dec_cell, dec_embeddings, start_of_sequence_id,\n",
    "                         end_of_sequence_id, max_target_sequence_length,\n",
    "                         vocab_size, output_layer, batch_size, keep_prob):\n",
    "    \"\"\"\n",
    "    Create a decoding layer for inference\n",
    "    :param encoder_state: Encoder state\n",
    "    :param dec_cell: Decoder RNN Cell\n",
    "    :param dec_embeddings: Decoder embeddings\n",
    "    :param start_of_sequence_id: GO ID\n",
    "    :param end_of_sequence_id: EOS Id\n",
    "    :param max_target_sequence_length: Maximum length of target sequences\n",
    "    :param vocab_size: Size of decoder/target vocabulary\n",
    "    :param decoding_scope: TenorFlow Variable Scope for decoding\n",
    "    :param output_layer: Function to apply the output layer\n",
    "    :param batch_size: Batch size\n",
    "    :param keep_prob: Dropout keep probability\n",
    "    :return: BasicDecoderOutput containing inference logits and sample_id\n",
    "    \"\"\"\n",
    "    # TODO: Implement Function\n",
    "    #with tf.variable_scope(\"decode\",reuse=True):\n",
    "    start_tokens = tf.tile(tf.constant([start_of_sequence_id], dtype=tf.int32), \n",
    "                                          [batch_size], name='start_tokens')\n",
    "    inference_helper = tf.contrib.seq2seq.GreedyEmbeddingHelper(dec_embeddings,\n",
    "                                                                start_tokens,\n",
    "                                                                end_of_sequence_id\n",
    "                                                                )\n",
    "    inference_decoder = tf.contrib.seq2seq.BasicDecoder(dec_cell,\n",
    "                                                        inference_helper,\n",
    "                                                        encoder_state,\n",
    "                                                        output_layer\n",
    "                                                        )\n",
    "    inference_decoder_output, _, _ = tf.contrib.seq2seq.dynamic_decode(inference_decoder,\n",
    "                                                                 impute_finished=True,\n",
    "                                                                 maximum_iterations=max_target_sequence_length\n",
    "                                                                )\n",
    "    return inference_decoder_output\n",
    "\n",
    "\n",
    "\n",
    "\"\"\"\n",
    "DON'T MODIFY ANYTHING IN THIS CELL THAT IS BELOW THIS LINE\n",
    "\"\"\"\n",
    "tests.test_decoding_layer_infer(decoding_layer_infer)"
   ]
  },
  {
   "cell_type": "markdown",
   "metadata": {},
   "source": [
    "### Build the Decoding Layer\n",
    "Implement `decoding_layer()` to create a Decoder RNN layer.\n",
    "\n",
    "* Embed the target sequences\n",
    "* Construct the decoder LSTM cell (just like you constructed the encoder cell above)\n",
    "* Create an output layer to map the outputs of the decoder to the elements of our vocabulary\n",
    "* Use the your `decoding_layer_train(encoder_state, dec_cell, dec_embed_input, target_sequence_length, max_target_sequence_length, output_layer, keep_prob)` function to get the training logits.\n",
    "* Use your `decoding_layer_infer(encoder_state, dec_cell, dec_embeddings, start_of_sequence_id, end_of_sequence_id, max_target_sequence_length, vocab_size, output_layer, batch_size, keep_prob)` function to get the inference logits.\n",
    "\n",
    "Note: You'll need to use [tf.variable_scope](https://www.tensorflow.org/api_docs/python/tf/variable_scope) to share variables between training and inference."
   ]
  },
  {
   "cell_type": "code",
   "execution_count": 12,
   "metadata": {},
   "outputs": [
    {
     "name": "stdout",
     "output_type": "stream",
     "text": [
      "Tests Passed\n"
     ]
    }
   ],
   "source": [
    "def decoding_layer(dec_input, encoder_state,\n",
    "                   target_sequence_length, max_target_sequence_length,\n",
    "                   rnn_size,\n",
    "                   num_layers, target_vocab_to_int, target_vocab_size,\n",
    "                   batch_size, keep_prob, decoding_embedding_size):\n",
    "    \"\"\"\n",
    "    Create decoding layer\n",
    "    :param dec_input: Decoder input\n",
    "    :param encoder_state: Encoder state\n",
    "    :param target_sequence_length: The lengths of each sequence in the target batch\n",
    "    :param max_target_sequence_length: Maximum length of target sequences\n",
    "    :param rnn_size: RNN Size\n",
    "    :param num_layers: Number of layers\n",
    "    :param target_vocab_to_int: Dictionary to go from the target words to an id\n",
    "    :param target_vocab_size: Size of target vocabulary\n",
    "    :param batch_size: The size of the batch\n",
    "    :param keep_prob: Dropout keep probability\n",
    "    :param decoding_embedding_size: Decoding embedding size\n",
    "    :return: Tuple of (Training BasicDecoderOutput, Inference BasicDecoderOutput)\n",
    "    \"\"\"\n",
    "    # TODO: Implement Function\n",
    "    dec_embeddings = tf.Variable(tf.random_uniform([target_vocab_size, decoding_embedding_size]))\n",
    "    dec_embed_input = tf.nn.embedding_lookup(dec_embeddings, dec_input)\n",
    "    # Build RNN Cell\n",
    "    cell = tf.contrib.rnn.MultiRNNCell([make_cell(rnn_size,keep_prob) for _ in range(num_layers)])\n",
    "    output_layer = Dense(target_vocab_size,\n",
    "                   kernel_initializer = tf.truncated_normal_initializer(mean = 0.0, stddev=0.1))\n",
    "    \n",
    "    training_basicdecoderoutput = None\n",
    "    with tf.variable_scope('decoding'):\n",
    "        training_basicdecoderoutput = decoding_layer_train(encoder_state,\n",
    "                                                           cell,\n",
    "                                                           dec_embed_input,\n",
    "                                                           target_sequence_length,\n",
    "                                                           max_target_sequence_length,\n",
    "                                                           output_layer,\n",
    "                                                           keep_prob\n",
    "                                                           )  \n",
    "    start_of_sequence_id = target_vocab_to_int['<GO>']\n",
    "    end_of_sequence_id = target_vocab_to_int['<EOS>']\n",
    "    inference_basicdecoderoutput = None\n",
    "    with tf.variable_scope('decoding', reuse=True):\n",
    "        inference_basicdecoderoutput=decoding_layer_infer(\n",
    "                                 encoder_state,\n",
    "                                 cell,\n",
    "                                 dec_embeddings,\n",
    "                                 start_of_sequence_id,\n",
    "                                 end_of_sequence_id,\n",
    "                                 max_target_sequence_length,\n",
    "                                 target_vocab_size,\n",
    "                                 output_layer,\n",
    "                                 batch_size,\n",
    "                                 keep_prob\n",
    "            )\n",
    "    \n",
    "    return training_basicdecoderoutput, inference_basicdecoderoutput\n",
    "    \n",
    "\n",
    "\n",
    "\n",
    "\"\"\"\n",
    "DON'T MODIFY ANYTHING IN THIS CELL THAT IS BELOW THIS LINE\n",
    "\"\"\"\n",
    "tests.test_decoding_layer(decoding_layer)"
   ]
  },
  {
   "cell_type": "markdown",
   "metadata": {},
   "source": [
    "### Build the Neural Network\n",
    "Apply the functions you implemented above to:\n",
    "\n",
    "- Encode the input using your `encoding_layer(rnn_inputs, rnn_size, num_layers, keep_prob,  source_sequence_length, source_vocab_size, encoding_embedding_size)`.\n",
    "- Process target data using your `process_decoder_input(target_data, target_vocab_to_int, batch_size)` function.\n",
    "- Decode the encoded input using your `decoding_layer(dec_input, enc_state, target_sequence_length, max_target_sentence_length, rnn_size, num_layers, target_vocab_to_int, target_vocab_size, batch_size, keep_prob, dec_embedding_size)` function."
   ]
  },
  {
   "cell_type": "code",
   "execution_count": 13,
   "metadata": {},
   "outputs": [
    {
     "name": "stdout",
     "output_type": "stream",
     "text": [
      "Tests Passed\n"
     ]
    }
   ],
   "source": [
    "def seq2seq_model(input_data, target_data, keep_prob, batch_size,\n",
    "                  source_sequence_length, target_sequence_length,\n",
    "                  max_target_sentence_length,\n",
    "                  source_vocab_size, target_vocab_size,\n",
    "                  enc_embedding_size, dec_embedding_size,\n",
    "                  rnn_size, num_layers, target_vocab_to_int):\n",
    "    \"\"\"\n",
    "    Build the Sequence-to-Sequence part of the neural network\n",
    "    :param input_data: Input placeholder\n",
    "    :param target_data: Target placeholder\n",
    "    :param keep_prob: Dropout keep probability placeholder\n",
    "    :param batch_size: Batch Size\n",
    "    :param source_sequence_length: Sequence Lengths of source sequences in the batch\n",
    "    :param target_sequence_length: Sequence Lengths of target sequences in the batch\n",
    "    :param source_vocab_size: Source vocabulary size\n",
    "    :param target_vocab_size: Target vocabulary size\n",
    "    :param enc_embedding_size: Decoder embedding size\n",
    "    :param dec_embedding_size: Encoder embedding size\n",
    "    :param rnn_size: RNN Size\n",
    "    :param num_layers: Number of layers\n",
    "    :param target_vocab_to_int: Dictionary to go from the target words to an id\n",
    "    :return: Tuple of (Training BasicDecoderOutput, Inference BasicDecoderOutput)\n",
    "    \"\"\"\n",
    "    \n",
    "    # TODO: Implement Function\n",
    "   \n",
    "    encoder_output, encoder_state = encoding_layer(input_data, rnn_size, num_layers, keep_prob,\n",
    "                                  source_sequence_length, \n",
    "                                  source_vocab_size,\n",
    "                                  enc_embedding_size)\n",
    "    \n",
    "    doceded_data = process_decoder_input(target_data, target_vocab_to_int, batch_size)\n",
    "    \n",
    "    '''\n",
    "                  (dec_input, encoder_state,\n",
    "                   target_sequence_length, max_target_sequence_length,\n",
    "                   rnn_size,\n",
    "                   num_layers, target_vocab_to_int, target_vocab_size,\n",
    "                   batch_size, keep_prob, decoding_embedding_size):\n",
    "    '''\n",
    "    train_logits, infer_logits = decoding_layer(doceded_data, \n",
    "                                                encoder_state,\n",
    "                                                target_sequence_length,\n",
    "                                                max_target_sentence_length,\n",
    "                                                rnn_size,\n",
    "                                                num_layers,\n",
    "                                                target_vocab_to_int,\n",
    "                                                target_vocab_size,\n",
    "                                                batch_size,\n",
    "                                                keep_prob,\n",
    "                                                dec_embedding_size\n",
    "                                                )\n",
    "                                                \n",
    "    #return None, None\n",
    "    return train_logits, infer_logits\n",
    "\n",
    "\n",
    "\"\"\"\n",
    "DON'T MODIFY ANYTHING IN THIS CELL THAT IS BELOW THIS LINE\n",
    "\"\"\"\n",
    "tests.test_seq2seq_model(seq2seq_model)"
   ]
  },
  {
   "cell_type": "markdown",
   "metadata": {},
   "source": [
    "## Neural Network Training\n",
    "### Hyperparameters\n",
    "Tune the following parameters:\n",
    "\n",
    "- Set `epochs` to the number of epochs.\n",
    "- Set `batch_size` to the batch size.\n",
    "- Set `rnn_size` to the size of the RNNs.\n",
    "- Set `num_layers` to the number of layers.\n",
    "- Set `encoding_embedding_size` to the size of the embedding for the encoder.\n",
    "- Set `decoding_embedding_size` to the size of the embedding for the decoder.\n",
    "- Set `learning_rate` to the learning rate.\n",
    "- Set `keep_probability` to the Dropout keep probability\n",
    "- Set `display_step` to state how many steps between each debug output statement"
   ]
  },
  {
   "cell_type": "code",
   "execution_count": 15,
   "metadata": {},
   "outputs": [
    {
     "ename": "SyntaxError",
     "evalue": "invalid syntax (<ipython-input-15-caad0a18947a>, line 13)",
     "output_type": "error",
     "traceback": [
      "\u001b[0;36m  File \u001b[0;32m\"<ipython-input-15-caad0a18947a>\"\u001b[0;36m, line \u001b[0;32m13\u001b[0m\n\u001b[0;31m    learning_rate = 0.0.05\u001b[0m\n\u001b[0m                         ^\u001b[0m\n\u001b[0;31mSyntaxError\u001b[0m\u001b[0;31m:\u001b[0m invalid syntax\n"
     ]
    }
   ],
   "source": [
    "# Number of Epochs\n",
    "epochs = 10\n",
    "# Batch Size\n",
    "batch_size = 192\n",
    "# RNN Size\n",
    "rnn_size = 128\n",
    "# Number of Layers\n",
    "num_layers = 3\n",
    "# Embedding Size\n",
    "encoding_embedding_size = 64\n",
    "decoding_embedding_size = 64\n",
    "# Learning Rate\n",
    "learning_rate = 0.0.05\n",
    "# Dropout Keep Probability\n",
    "keep_probability = 0.7\n",
    "display_step = 10"
   ]
  },
  {
   "cell_type": "markdown",
   "metadata": {},
   "source": [
    "### Build the Graph\n",
    "Build the graph using the neural network you implemented."
   ]
  },
  {
   "cell_type": "code",
   "execution_count": 16,
   "metadata": {
    "collapsed": true
   },
   "outputs": [],
   "source": [
    "\"\"\"\n",
    "DON'T MODIFY ANYTHING IN THIS CELL\n",
    "\"\"\"\n",
    "save_path = 'checkpoints/dev'\n",
    "(source_int_text, target_int_text), (source_vocab_to_int, target_vocab_to_int), _ = helper.load_preprocess()\n",
    "max_target_sentence_length = max([len(sentence) for sentence in source_int_text])\n",
    "\n",
    "train_graph = tf.Graph()\n",
    "with train_graph.as_default():\n",
    "    input_data, targets, lr, keep_prob, target_sequence_length, max_target_sequence_length, source_sequence_length = model_inputs()\n",
    "\n",
    "    #sequence_length = tf.placeholder_with_default(max_target_sentence_length, None, name='sequence_length')\n",
    "    input_shape = tf.shape(input_data)\n",
    "\n",
    "    train_logits, inference_logits = seq2seq_model(tf.reverse(input_data, [-1]),\n",
    "                                                   targets,\n",
    "                                                   keep_prob,\n",
    "                                                   batch_size,\n",
    "                                                   source_sequence_length,\n",
    "                                                   target_sequence_length,\n",
    "                                                   max_target_sequence_length,\n",
    "                                                   len(source_vocab_to_int),\n",
    "                                                   len(target_vocab_to_int),\n",
    "                                                   encoding_embedding_size,\n",
    "                                                   decoding_embedding_size,\n",
    "                                                   rnn_size,\n",
    "                                                   num_layers,\n",
    "                                                   target_vocab_to_int)\n",
    "\n",
    "\n",
    "    training_logits = tf.identity(train_logits.rnn_output, name='logits')\n",
    "    inference_logits = tf.identity(inference_logits.sample_id, name='predictions')\n",
    "\n",
    "    masks = tf.sequence_mask(target_sequence_length, max_target_sequence_length, dtype=tf.float32, name='masks')\n",
    "\n",
    "    with tf.name_scope(\"optimization\"):\n",
    "        # Loss function\n",
    "        cost = tf.contrib.seq2seq.sequence_loss(\n",
    "            training_logits,\n",
    "            targets,\n",
    "            masks)\n",
    "\n",
    "        # Optimizer\n",
    "        optimizer = tf.train.AdamOptimizer(lr)\n",
    "\n",
    "        # Gradient Clipping\n",
    "        gradients = optimizer.compute_gradients(cost)\n",
    "        capped_gradients = [(tf.clip_by_value(grad, -1., 1.), var) for grad, var in gradients if grad is not None]\n",
    "        train_op = optimizer.apply_gradients(capped_gradients)\n"
   ]
  },
  {
   "cell_type": "markdown",
   "metadata": {},
   "source": [
    "Batch and pad the source and target sequences"
   ]
  },
  {
   "cell_type": "code",
   "execution_count": 17,
   "metadata": {
    "collapsed": true
   },
   "outputs": [],
   "source": [
    "\"\"\"\n",
    "DON'T MODIFY ANYTHING IN THIS CELL\n",
    "\"\"\"\n",
    "def pad_sentence_batch(sentence_batch, pad_int):\n",
    "    \"\"\"Pad sentences with <PAD> so that each sentence of a batch has the same length\"\"\"\n",
    "    max_sentence = max([len(sentence) for sentence in sentence_batch])\n",
    "    return [sentence + [pad_int] * (max_sentence - len(sentence)) for sentence in sentence_batch]\n",
    "\n",
    "\n",
    "def get_batches(sources, targets, batch_size, source_pad_int, target_pad_int):\n",
    "    \"\"\"Batch targets, sources, and the lengths of their sentences together\"\"\"\n",
    "    for batch_i in range(0, len(sources)//batch_size):\n",
    "        start_i = batch_i * batch_size\n",
    "\n",
    "        # Slice the right amount for the batch\n",
    "        sources_batch = sources[start_i:start_i + batch_size]\n",
    "        targets_batch = targets[start_i:start_i + batch_size]\n",
    "\n",
    "        # Pad\n",
    "        pad_sources_batch = np.array(pad_sentence_batch(sources_batch, source_pad_int))\n",
    "        pad_targets_batch = np.array(pad_sentence_batch(targets_batch, target_pad_int))\n",
    "\n",
    "        # Need the lengths for the _lengths parameters\n",
    "        pad_targets_lengths = []\n",
    "        for target in pad_targets_batch:\n",
    "            pad_targets_lengths.append(len(target))\n",
    "\n",
    "        pad_source_lengths = []\n",
    "        for source in pad_sources_batch:\n",
    "            pad_source_lengths.append(len(source))\n",
    "\n",
    "        yield pad_sources_batch, pad_targets_batch, pad_source_lengths, pad_targets_lengths\n"
   ]
  },
  {
   "cell_type": "markdown",
   "metadata": {},
   "source": [
    "### Train\n",
    "Train the neural network on the preprocessed data. If you have a hard time getting a good loss, check the forms to see if anyone is having the same problem."
   ]
  },
  {
   "cell_type": "code",
   "execution_count": null,
   "metadata": {
    "scrolled": true
   },
   "outputs": [
    {
     "name": "stdout",
     "output_type": "stream",
     "text": [
      "Epoch   0 Batch   10/1077 - Train Accuracy: 0.1682, Validation Accuracy: 0.2827, Loss: 4.3346\n",
      "Epoch   0 Batch   20/1077 - Train Accuracy: 0.2609, Validation Accuracy: 0.3263, Loss: 3.6457\n",
      "Epoch   0 Batch   30/1077 - Train Accuracy: 0.2867, Validation Accuracy: 0.3516, Loss: 3.4921\n",
      "Epoch   0 Batch   40/1077 - Train Accuracy: 0.3172, Validation Accuracy: 0.3739, Loss: 3.3047\n",
      "Epoch   0 Batch   50/1077 - Train Accuracy: 0.3020, Validation Accuracy: 0.3725, Loss: 3.2852\n",
      "Epoch   0 Batch   60/1077 - Train Accuracy: 0.3504, Validation Accuracy: 0.3849, Loss: 3.0326\n",
      "Epoch   0 Batch   70/1077 - Train Accuracy: 0.2829, Validation Accuracy: 0.3817, Loss: 3.2221\n",
      "Epoch   0 Batch   80/1077 - Train Accuracy: 0.3270, Validation Accuracy: 0.3849, Loss: 3.0120\n",
      "Epoch   0 Batch   90/1077 - Train Accuracy: 0.3359, Validation Accuracy: 0.3913, Loss: 3.0534\n",
      "Epoch   0 Batch  100/1077 - Train Accuracy: 0.3242, Validation Accuracy: 0.3913, Loss: 3.0089\n",
      "Epoch   0 Batch  110/1077 - Train Accuracy: 0.3648, Validation Accuracy: 0.4102, Loss: 2.9045\n",
      "Epoch   0 Batch  120/1077 - Train Accuracy: 0.3258, Validation Accuracy: 0.3878, Loss: 2.9699\n",
      "Epoch   0 Batch  130/1077 - Train Accuracy: 0.3743, Validation Accuracy: 0.4055, Loss: 2.7710\n",
      "Epoch   0 Batch  140/1077 - Train Accuracy: 0.2985, Validation Accuracy: 0.3963, Loss: 3.0233\n",
      "Epoch   0 Batch  150/1077 - Train Accuracy: 0.3914, Validation Accuracy: 0.4144, Loss: 2.7133\n",
      "Epoch   0 Batch  160/1077 - Train Accuracy: 0.3453, Validation Accuracy: 0.4070, Loss: 2.7266\n",
      "Epoch   0 Batch  170/1077 - Train Accuracy: 0.3316, Validation Accuracy: 0.4134, Loss: 2.7782\n",
      "Epoch   0 Batch  180/1077 - Train Accuracy: 0.3563, Validation Accuracy: 0.4031, Loss: 2.6575\n",
      "Epoch   0 Batch  190/1077 - Train Accuracy: 0.3566, Validation Accuracy: 0.4144, Loss: 2.6982\n",
      "Epoch   0 Batch  200/1077 - Train Accuracy: 0.3637, Validation Accuracy: 0.4162, Loss: 2.5876\n",
      "Epoch   0 Batch  210/1077 - Train Accuracy: 0.3661, Validation Accuracy: 0.4009, Loss: 2.5956\n",
      "Epoch   0 Batch  220/1077 - Train Accuracy: 0.2932, Validation Accuracy: 0.3668, Loss: 2.6303\n",
      "Epoch   0 Batch  230/1077 - Train Accuracy: 0.3739, Validation Accuracy: 0.3793, Loss: 2.3952\n",
      "Epoch   0 Batch  240/1077 - Train Accuracy: 0.3512, Validation Accuracy: 0.3988, Loss: 2.4533\n",
      "Epoch   0 Batch  250/1077 - Train Accuracy: 0.3643, Validation Accuracy: 0.3690, Loss: 2.2630\n",
      "Epoch   0 Batch  260/1077 - Train Accuracy: 0.3754, Validation Accuracy: 0.4006, Loss: 2.2758\n",
      "Epoch   0 Batch  270/1077 - Train Accuracy: 0.3348, Validation Accuracy: 0.4016, Loss: 2.4642\n",
      "Epoch   0 Batch  280/1077 - Train Accuracy: 0.3406, Validation Accuracy: 0.3931, Loss: 2.3300\n",
      "Epoch   0 Batch  290/1077 - Train Accuracy: 0.3453, Validation Accuracy: 0.4055, Loss: 2.3724\n",
      "Epoch   0 Batch  300/1077 - Train Accuracy: 0.3343, Validation Accuracy: 0.4205, Loss: 2.4022\n",
      "Epoch   0 Batch  310/1077 - Train Accuracy: 0.3512, Validation Accuracy: 0.4180, Loss: 2.2298\n",
      "Epoch   0 Batch  320/1077 - Train Accuracy: 0.2922, Validation Accuracy: 0.3569, Loss: 2.1989\n",
      "Epoch   0 Batch  330/1077 - Train Accuracy: 0.3613, Validation Accuracy: 0.4116, Loss: 2.1791\n",
      "Epoch   0 Batch  340/1077 - Train Accuracy: 0.2126, Validation Accuracy: 0.2862, Loss: 2.2761\n",
      "Epoch   0 Batch  350/1077 - Train Accuracy: 0.2746, Validation Accuracy: 0.3256, Loss: 2.2387\n",
      "Epoch   0 Batch  360/1077 - Train Accuracy: 0.3055, Validation Accuracy: 0.3739, Loss: 2.0217\n",
      "Epoch   0 Batch  370/1077 - Train Accuracy: 0.3356, Validation Accuracy: 0.3754, Loss: 1.9469\n",
      "Epoch   0 Batch  380/1077 - Train Accuracy: 0.3059, Validation Accuracy: 0.3366, Loss: 1.8737\n",
      "Epoch   0 Batch  390/1077 - Train Accuracy: 0.2062, Validation Accuracy: 0.2585, Loss: 1.9053\n",
      "Epoch   0 Batch  400/1077 - Train Accuracy: 0.2391, Validation Accuracy: 0.2390, Loss: 1.7721\n",
      "Epoch   0 Batch  410/1077 - Train Accuracy: 0.1719, Validation Accuracy: 0.1701, Loss: 1.7477\n",
      "Epoch   0 Batch  420/1077 - Train Accuracy: 0.2180, Validation Accuracy: 0.2177, Loss: 1.6276\n",
      "Epoch   0 Batch  430/1077 - Train Accuracy: 0.3387, Validation Accuracy: 0.3807, Loss: 1.5637\n",
      "Epoch   0 Batch  440/1077 - Train Accuracy: 0.2324, Validation Accuracy: 0.2209, Loss: 1.5780\n",
      "Epoch   0 Batch  450/1077 - Train Accuracy: 0.3461, Validation Accuracy: 0.4474, Loss: 1.5393\n",
      "Epoch   0 Batch  460/1077 - Train Accuracy: 0.3133, Validation Accuracy: 0.4148, Loss: 1.5202\n",
      "Epoch   0 Batch  470/1077 - Train Accuracy: 0.3606, Validation Accuracy: 0.4620, Loss: 1.5077\n",
      "Epoch   0 Batch  480/1077 - Train Accuracy: 0.2492, Validation Accuracy: 0.3221, Loss: 1.4430\n",
      "Epoch   0 Batch  490/1077 - Train Accuracy: 0.3871, Validation Accuracy: 0.4496, Loss: 1.4287\n",
      "Epoch   0 Batch  500/1077 - Train Accuracy: 0.3770, Validation Accuracy: 0.4336, Loss: 1.3748\n",
      "Epoch   0 Batch  510/1077 - Train Accuracy: 0.4324, Validation Accuracy: 0.4830, Loss: 1.3537\n",
      "Epoch   0 Batch  520/1077 - Train Accuracy: 0.4092, Validation Accuracy: 0.4492, Loss: 1.3086\n",
      "Epoch   0 Batch  530/1077 - Train Accuracy: 0.3008, Validation Accuracy: 0.3246, Loss: 1.3460\n",
      "Epoch   0 Batch  540/1077 - Train Accuracy: 0.3965, Validation Accuracy: 0.4286, Loss: 1.2445\n",
      "Epoch   0 Batch  550/1077 - Train Accuracy: 0.3523, Validation Accuracy: 0.4233, Loss: 1.3716\n",
      "Epoch   0 Batch  560/1077 - Train Accuracy: 0.4340, Validation Accuracy: 0.4751, Loss: 1.2547\n",
      "Epoch   0 Batch  570/1077 - Train Accuracy: 0.4157, Validation Accuracy: 0.4893, Loss: 1.2566\n",
      "Epoch   0 Batch  580/1077 - Train Accuracy: 0.4100, Validation Accuracy: 0.4453, Loss: 1.1512\n",
      "Epoch   0 Batch  590/1077 - Train Accuracy: 0.4100, Validation Accuracy: 0.5036, Loss: 1.2643\n",
      "Epoch   0 Batch  600/1077 - Train Accuracy: 0.4751, Validation Accuracy: 0.5018, Loss: 1.1554\n",
      "Epoch   0 Batch  610/1077 - Train Accuracy: 0.4511, Validation Accuracy: 0.5167, Loss: 1.2523\n",
      "Epoch   0 Batch  620/1077 - Train Accuracy: 0.4449, Validation Accuracy: 0.5021, Loss: 1.1695\n",
      "Epoch   0 Batch  630/1077 - Train Accuracy: 0.4754, Validation Accuracy: 0.5121, Loss: 1.1427\n",
      "Epoch   0 Batch  640/1077 - Train Accuracy: 0.4237, Validation Accuracy: 0.5025, Loss: 1.1400\n",
      "Epoch   0 Batch  650/1077 - Train Accuracy: 0.4410, Validation Accuracy: 0.5085, Loss: 1.1665\n",
      "Epoch   0 Batch  660/1077 - Train Accuracy: 0.4277, Validation Accuracy: 0.4950, Loss: 1.1685\n",
      "Epoch   0 Batch  670/1077 - Train Accuracy: 0.5039, Validation Accuracy: 0.5078, Loss: 1.0625\n",
      "Epoch   0 Batch  680/1077 - Train Accuracy: 0.4472, Validation Accuracy: 0.4922, Loss: 1.0916\n",
      "Epoch   0 Batch  690/1077 - Train Accuracy: 0.4645, Validation Accuracy: 0.5185, Loss: 1.0672\n",
      "Epoch   0 Batch  700/1077 - Train Accuracy: 0.4781, Validation Accuracy: 0.5167, Loss: 1.1216\n",
      "Epoch   0 Batch  710/1077 - Train Accuracy: 0.4398, Validation Accuracy: 0.5085, Loss: 1.0711\n",
      "Epoch   0 Batch  720/1077 - Train Accuracy: 0.4498, Validation Accuracy: 0.5092, Loss: 1.2037\n",
      "Epoch   0 Batch  730/1077 - Train Accuracy: 0.4512, Validation Accuracy: 0.4886, Loss: 1.1194\n",
      "Epoch   0 Batch  740/1077 - Train Accuracy: 0.4840, Validation Accuracy: 0.5178, Loss: 1.0622\n",
      "Epoch   0 Batch  750/1077 - Train Accuracy: 0.4750, Validation Accuracy: 0.4982, Loss: 1.0423\n",
      "Epoch   0 Batch  760/1077 - Train Accuracy: 0.4773, Validation Accuracy: 0.5128, Loss: 1.1322\n",
      "Epoch   0 Batch  770/1077 - Train Accuracy: 0.4420, Validation Accuracy: 0.4712, Loss: 0.9987\n",
      "Epoch   0 Batch  780/1077 - Train Accuracy: 0.4617, Validation Accuracy: 0.5064, Loss: 1.1440\n",
      "Epoch   0 Batch  790/1077 - Train Accuracy: 0.3859, Validation Accuracy: 0.4766, Loss: 1.1200\n",
      "Epoch   0 Batch  800/1077 - Train Accuracy: 0.4223, Validation Accuracy: 0.4691, Loss: 1.0800\n",
      "Epoch   0 Batch  810/1077 - Train Accuracy: 0.5082, Validation Accuracy: 0.5192, Loss: 1.0133\n",
      "Epoch   0 Batch  820/1077 - Train Accuracy: 0.4230, Validation Accuracy: 0.5078, Loss: 1.1002\n",
      "Epoch   0 Batch  830/1077 - Train Accuracy: 0.4605, Validation Accuracy: 0.5273, Loss: 1.0128\n",
      "Epoch   0 Batch  840/1077 - Train Accuracy: 0.4594, Validation Accuracy: 0.5099, Loss: 1.0158\n",
      "Epoch   0 Batch  850/1077 - Train Accuracy: 0.4643, Validation Accuracy: 0.5202, Loss: 1.0639\n",
      "Epoch   0 Batch  860/1077 - Train Accuracy: 0.4881, Validation Accuracy: 0.5149, Loss: 1.0392\n",
      "Epoch   0 Batch  870/1077 - Train Accuracy: 0.4264, Validation Accuracy: 0.4989, Loss: 1.1485\n",
      "Epoch   0 Batch  880/1077 - Train Accuracy: 0.5066, Validation Accuracy: 0.5167, Loss: 1.0112\n"
     ]
    },
    {
     "name": "stdout",
     "output_type": "stream",
     "text": [
      "Epoch   0 Batch  890/1077 - Train Accuracy: 0.5435, Validation Accuracy: 0.4996, Loss: 0.9985\n",
      "Epoch   0 Batch  900/1077 - Train Accuracy: 0.4453, Validation Accuracy: 0.4950, Loss: 1.0919\n",
      "Epoch   0 Batch  910/1077 - Train Accuracy: 0.4877, Validation Accuracy: 0.5185, Loss: 1.0281\n",
      "Epoch   0 Batch  920/1077 - Train Accuracy: 0.4535, Validation Accuracy: 0.4950, Loss: 1.0457\n",
      "Epoch   0 Batch  930/1077 - Train Accuracy: 0.4625, Validation Accuracy: 0.5146, Loss: 1.0237\n",
      "Epoch   0 Batch  940/1077 - Train Accuracy: 0.4512, Validation Accuracy: 0.4979, Loss: 1.0163\n",
      "Epoch   0 Batch  950/1077 - Train Accuracy: 0.4215, Validation Accuracy: 0.4638, Loss: 0.9596\n",
      "Epoch   0 Batch  960/1077 - Train Accuracy: 0.4833, Validation Accuracy: 0.4897, Loss: 0.9815\n",
      "Epoch   0 Batch  970/1077 - Train Accuracy: 0.4781, Validation Accuracy: 0.5270, Loss: 1.0598\n",
      "Epoch   0 Batch  980/1077 - Train Accuracy: 0.4984, Validation Accuracy: 0.5110, Loss: 0.9920\n",
      "Epoch   0 Batch  990/1077 - Train Accuracy: 0.4597, Validation Accuracy: 0.5014, Loss: 1.0295\n",
      "Epoch   0 Batch 1000/1077 - Train Accuracy: 0.4866, Validation Accuracy: 0.5050, Loss: 0.9423\n",
      "Epoch   0 Batch 1010/1077 - Train Accuracy: 0.4664, Validation Accuracy: 0.5213, Loss: 0.9764\n",
      "Epoch   0 Batch 1020/1077 - Train Accuracy: 0.4945, Validation Accuracy: 0.5103, Loss: 0.9340\n",
      "Epoch   0 Batch 1030/1077 - Train Accuracy: 0.4488, Validation Accuracy: 0.5181, Loss: 0.9958\n",
      "Epoch   0 Batch 1040/1077 - Train Accuracy: 0.4655, Validation Accuracy: 0.5245, Loss: 1.0107\n",
      "Epoch   0 Batch 1050/1077 - Train Accuracy: 0.4172, Validation Accuracy: 0.5178, Loss: 1.0006\n",
      "Epoch   0 Batch 1060/1077 - Train Accuracy: 0.4629, Validation Accuracy: 0.5163, Loss: 0.9210\n",
      "Epoch   0 Batch 1070/1077 - Train Accuracy: 0.4613, Validation Accuracy: 0.5266, Loss: 0.9913\n",
      "Epoch   1 Batch   10/1077 - Train Accuracy: 0.4470, Validation Accuracy: 0.5231, Loss: 1.0112\n",
      "Epoch   1 Batch   20/1077 - Train Accuracy: 0.4688, Validation Accuracy: 0.5185, Loss: 0.9074\n",
      "Epoch   1 Batch   30/1077 - Train Accuracy: 0.4723, Validation Accuracy: 0.5163, Loss: 0.9132\n",
      "Epoch   1 Batch   40/1077 - Train Accuracy: 0.4711, Validation Accuracy: 0.5458, Loss: 0.9243\n",
      "Epoch   1 Batch   50/1077 - Train Accuracy: 0.4344, Validation Accuracy: 0.4851, Loss: 0.9564\n",
      "Epoch   1 Batch   60/1077 - Train Accuracy: 0.4758, Validation Accuracy: 0.5146, Loss: 0.8985\n",
      "Epoch   1 Batch   70/1077 - Train Accuracy: 0.4387, Validation Accuracy: 0.5025, Loss: 0.9999\n",
      "Epoch   1 Batch   80/1077 - Train Accuracy: 0.4434, Validation Accuracy: 0.4911, Loss: 0.9693\n",
      "Epoch   1 Batch   90/1077 - Train Accuracy: 0.4309, Validation Accuracy: 0.5138, Loss: 1.0199\n",
      "Epoch   1 Batch  100/1077 - Train Accuracy: 0.4762, Validation Accuracy: 0.5238, Loss: 0.9808\n",
      "Epoch   1 Batch  110/1077 - Train Accuracy: 0.4984, Validation Accuracy: 0.5163, Loss: 0.9109\n",
      "Epoch   1 Batch  120/1077 - Train Accuracy: 0.4383, Validation Accuracy: 0.5075, Loss: 1.0238\n",
      "Epoch   1 Batch  130/1077 - Train Accuracy: 0.5060, Validation Accuracy: 0.5163, Loss: 0.8856\n",
      "Epoch   1 Batch  140/1077 - Train Accuracy: 0.4128, Validation Accuracy: 0.5028, Loss: 1.0042\n",
      "Epoch   1 Batch  150/1077 - Train Accuracy: 0.5022, Validation Accuracy: 0.5117, Loss: 0.9323\n",
      "Epoch   1 Batch  160/1077 - Train Accuracy: 0.4664, Validation Accuracy: 0.5011, Loss: 0.9065\n",
      "Epoch   1 Batch  170/1077 - Train Accuracy: 0.4309, Validation Accuracy: 0.5131, Loss: 0.9851\n",
      "Epoch   1 Batch  180/1077 - Train Accuracy: 0.4602, Validation Accuracy: 0.5124, Loss: 0.9709\n",
      "Epoch   1 Batch  190/1077 - Train Accuracy: 0.4430, Validation Accuracy: 0.4719, Loss: 0.9179\n",
      "Epoch   1 Batch  200/1077 - Train Accuracy: 0.4461, Validation Accuracy: 0.5245, Loss: 0.9973\n",
      "Epoch   1 Batch  210/1077 - Train Accuracy: 0.4732, Validation Accuracy: 0.5224, Loss: 0.9479\n",
      "Epoch   1 Batch  220/1077 - Train Accuracy: 0.4593, Validation Accuracy: 0.5018, Loss: 0.9690\n",
      "Epoch   1 Batch  230/1077 - Train Accuracy: 0.5138, Validation Accuracy: 0.5252, Loss: 0.9287\n",
      "Epoch   1 Batch  240/1077 - Train Accuracy: 0.4984, Validation Accuracy: 0.5312, Loss: 0.9223\n",
      "Epoch   1 Batch  250/1077 - Train Accuracy: 0.5004, Validation Accuracy: 0.5263, Loss: 0.8794\n",
      "Epoch   1 Batch  260/1077 - Train Accuracy: 0.4717, Validation Accuracy: 0.4961, Loss: 0.8537\n",
      "Epoch   1 Batch  270/1077 - Train Accuracy: 0.4578, Validation Accuracy: 0.5238, Loss: 0.9667\n",
      "Epoch   1 Batch  280/1077 - Train Accuracy: 0.4922, Validation Accuracy: 0.5210, Loss: 0.9227\n"
     ]
    }
   ],
   "source": [
    "\"\"\"\n",
    "DON'T MODIFY ANYTHING IN THIS CELL\n",
    "\"\"\"\n",
    "def get_accuracy(target, logits):\n",
    "    \"\"\"\n",
    "    Calculate accuracy\n",
    "    \"\"\"\n",
    "    max_seq = max(target.shape[1], logits.shape[1])\n",
    "    if max_seq - target.shape[1]:\n",
    "        target = np.pad(\n",
    "            target,\n",
    "            [(0,0),(0,max_seq - target.shape[1])],\n",
    "            'constant')\n",
    "    if max_seq - logits.shape[1]:\n",
    "        logits = np.pad(\n",
    "            logits,\n",
    "            [(0,0),(0,max_seq - logits.shape[1])],\n",
    "            'constant')\n",
    "\n",
    "    return np.mean(np.equal(target, logits))\n",
    "\n",
    "# Split data to training and validation sets\n",
    "train_source = source_int_text[batch_size:]\n",
    "train_target = target_int_text[batch_size:]\n",
    "valid_source = source_int_text[:batch_size]\n",
    "valid_target = target_int_text[:batch_size]\n",
    "(valid_sources_batch, valid_targets_batch, valid_sources_lengths, valid_targets_lengths ) = next(get_batches(valid_source,\n",
    "                                                                                                             valid_target,\n",
    "                                                                                                             batch_size,\n",
    "                                                                                                             source_vocab_to_int['<PAD>'],\n",
    "                                                                                                             target_vocab_to_int['<PAD>']))                                                                                                  \n",
    "with tf.Session(graph=train_graph) as sess:\n",
    "    sess.run(tf.global_variables_initializer())\n",
    "\n",
    "    for epoch_i in range(epochs):\n",
    "        for batch_i, (source_batch, target_batch, sources_lengths, targets_lengths) in enumerate(\n",
    "                get_batches(train_source, train_target, batch_size,\n",
    "                            source_vocab_to_int['<PAD>'],\n",
    "                            target_vocab_to_int['<PAD>'])):\n",
    "\n",
    "            _, loss = sess.run(\n",
    "                [train_op, cost],\n",
    "                {input_data: source_batch,\n",
    "                 targets: target_batch,\n",
    "                 lr: learning_rate,\n",
    "                 target_sequence_length: targets_lengths,\n",
    "                 source_sequence_length: sources_lengths,\n",
    "                 keep_prob: keep_probability})\n",
    "\n",
    "\n",
    "            if batch_i % display_step == 0 and batch_i > 0:\n",
    "\n",
    "\n",
    "                batch_train_logits = sess.run(\n",
    "                    inference_logits,\n",
    "                    {input_data: source_batch,\n",
    "                     source_sequence_length: sources_lengths,\n",
    "                     target_sequence_length: targets_lengths,\n",
    "                     keep_prob: 1.0})\n",
    "\n",
    "\n",
    "                batch_valid_logits = sess.run(\n",
    "                    inference_logits,\n",
    "                    {input_data: valid_sources_batch,\n",
    "                     source_sequence_length: valid_sources_lengths,\n",
    "                     target_sequence_length: valid_targets_lengths,\n",
    "                     keep_prob: 1.0})\n",
    "\n",
    "                train_acc = get_accuracy(target_batch, batch_train_logits)\n",
    "\n",
    "                valid_acc = get_accuracy(valid_targets_batch, batch_valid_logits)\n",
    "\n",
    "                print('Epoch {:>3} Batch {:>4}/{} - Train Accuracy: {:>6.4f}, Validation Accuracy: {:>6.4f}, Loss: {:>6.4f}'\n",
    "                      .format(epoch_i, batch_i, len(source_int_text) // batch_size, train_acc, valid_acc, loss))\n",
    "\n",
    "    # Save Model\n",
    "    saver = tf.train.Saver()\n",
    "    saver.save(sess, save_path)\n",
    "    print('Model Trained and Saved')"
   ]
  },
  {
   "cell_type": "markdown",
   "metadata": {},
   "source": [
    "### Save Parameters\n",
    "Save the `batch_size` and `save_path` parameters for inference."
   ]
  },
  {
   "cell_type": "code",
   "execution_count": 126,
   "metadata": {
    "collapsed": true
   },
   "outputs": [],
   "source": [
    "\"\"\"\n",
    "DON'T MODIFY ANYTHING IN THIS CELL\n",
    "\"\"\"\n",
    "# Save parameters for checkpoint\n",
    "helper.save_params(save_path)"
   ]
  },
  {
   "cell_type": "markdown",
   "metadata": {},
   "source": [
    "# Checkpoint"
   ]
  },
  {
   "cell_type": "code",
   "execution_count": 127,
   "metadata": {
    "collapsed": true
   },
   "outputs": [],
   "source": [
    "\"\"\"\n",
    "DON'T MODIFY ANYTHING IN THIS CELL\n",
    "\"\"\"\n",
    "import tensorflow as tf\n",
    "import numpy as np\n",
    "import helper\n",
    "import problem_unittests as tests\n",
    "\n",
    "_, (source_vocab_to_int, target_vocab_to_int), (source_int_to_vocab, target_int_to_vocab) = helper.load_preprocess()\n",
    "load_path = helper.load_params()"
   ]
  },
  {
   "cell_type": "markdown",
   "metadata": {},
   "source": [
    "## Sentence to Sequence\n",
    "To feed a sentence into the model for translation, you first need to preprocess it.  Implement the function `sentence_to_seq()` to preprocess new sentences.\n",
    "\n",
    "- Convert the sentence to lowercase\n",
    "- Convert words into ids using `vocab_to_int`\n",
    " - Convert words not in the vocabulary, to the `<UNK>` word id."
   ]
  },
  {
   "cell_type": "code",
   "execution_count": 128,
   "metadata": {},
   "outputs": [
    {
     "name": "stdout",
     "output_type": "stream",
     "text": [
      "Tests Passed\n"
     ]
    }
   ],
   "source": [
    "def sentence_to_seq(sentence, vocab_to_int):\n",
    "    \"\"\"\n",
    "    Convert a sentence to a sequence of ids\n",
    "    :param sentence: String\n",
    "    :param vocab_to_int: Dictionary to go from the words to an id\n",
    "    :return: List of word ids\n",
    "    \"\"\"\n",
    "    # TODO: Implement Function\n",
    "    sentence = sentence.lower()\n",
    "    sentence = sentence.split()\n",
    "    list_of_ids = [vocab_to_int.get(word, vocab_to_int['<UNK>']) \n",
    "                   for word in sentence]\n",
    "    return list_of_ids\n",
    "\n",
    "\n",
    "\"\"\"\n",
    "DON'T MODIFY ANYTHING IN THIS CELL THAT IS BELOW THIS LINE\n",
    "\"\"\"\n",
    "tests.test_sentence_to_seq(sentence_to_seq)"
   ]
  },
  {
   "cell_type": "markdown",
   "metadata": {},
   "source": [
    "## Translate\n",
    "This will translate `translate_sentence` from English to French."
   ]
  },
  {
   "cell_type": "code",
   "execution_count": null,
   "metadata": {
    "collapsed": true
   },
   "outputs": [],
   "source": [
    "translate_sentence = 'he saw a old yellow truck .'\n",
    "\n",
    "\n",
    "\"\"\"\n",
    "DON'T MODIFY ANYTHING IN THIS CELL\n",
    "\"\"\"\n",
    "translate_sentence = sentence_to_seq(translate_sentence, source_vocab_to_int)\n",
    "\n",
    "loaded_graph = tf.Graph()\n",
    "with tf.Session(graph=loaded_graph) as sess:\n",
    "    # Load saved model\n",
    "    loader = tf.train.import_meta_graph(load_path + '.meta')\n",
    "    loader.restore(sess, load_path)\n",
    "\n",
    "    input_data = loaded_graph.get_tensor_by_name('input:0')\n",
    "    logits = loaded_graph.get_tensor_by_name('predictions:0')\n",
    "    target_sequence_length = loaded_graph.get_tensor_by_name('target_sequence_length:0')\n",
    "    source_sequence_length = loaded_graph.get_tensor_by_name('source_sequence_length:0')\n",
    "    keep_prob = loaded_graph.get_tensor_by_name('keep_prob:0')\n",
    "\n",
    "    translate_logits = sess.run(logits, {input_data: [translate_sentence]*batch_size,\n",
    "                                         target_sequence_length: [len(translate_sentence)*2]*batch_size,\n",
    "                                         source_sequence_length: [len(translate_sentence)]*batch_size,\n",
    "                                         keep_prob: 1.0})[0]\n",
    "\n",
    "print('Input')\n",
    "print('  Word Ids:      {}'.format([i for i in translate_sentence]))\n",
    "print('  English Words: {}'.format([source_int_to_vocab[i] for i in translate_sentence]))\n",
    "\n",
    "print('\\nPrediction')\n",
    "print('  Word Ids:      {}'.format([i for i in translate_logits]))\n",
    "print('  French Words: {}'.format(\" \".join([target_int_to_vocab[i] for i in translate_logits])))\n"
   ]
  },
  {
   "cell_type": "markdown",
   "metadata": {},
   "source": [
    "## Imperfect Translation\n",
    "You might notice that some sentences translate better than others.  Since the dataset you're using only has a vocabulary of 227 English words of the thousands that you use, you're only going to see good results using these words.  For this project, you don't need a perfect translation. However, if you want to create a better translation model, you'll need better data.\n",
    "\n",
    "You can train on the [WMT10 French-English corpus](http://www.statmt.org/wmt10/training-giga-fren.tar).  This dataset has more vocabulary and richer in topics discussed.  However, this will take you days to train, so make sure you've a GPU and the neural network is performing well on dataset we provided.  Just make sure you play with the WMT10 corpus after you've submitted this project.\n",
    "## Submitting This Project\n",
    "When submitting this project, make sure to run all the cells before saving the notebook. Save the notebook file as \"dlnd_language_translation.ipynb\" and save it as a HTML file under \"File\" -> \"Download as\". Include the \"helper.py\" and \"problem_unittests.py\" files in your submission."
   ]
  }
 ],
 "metadata": {
  "anaconda-cloud": {},
  "kernelspec": {
   "display_name": "Python 3",
   "language": "python",
   "name": "python3"
  },
  "language_info": {
   "codemirror_mode": {
    "name": "ipython",
    "version": 3
   },
   "file_extension": ".py",
   "mimetype": "text/x-python",
   "name": "python",
   "nbconvert_exporter": "python",
   "pygments_lexer": "ipython3",
   "version": "3.5.4"
  },
  "widgets": {
   "state": {},
   "version": "1.1.2"
  }
 },
 "nbformat": 4,
 "nbformat_minor": 1
}
